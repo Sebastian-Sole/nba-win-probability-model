{
 "cells": [
  {
   "cell_type": "code",
   "execution_count": 47,
   "metadata": {},
   "outputs": [],
   "source": [
    "import requests\n",
    "import json\n",
    "import pandas as pd\n",
    "import os\n",
    "from dotenv import load_dotenv\n",
    "load_dotenv()\n",
    "from tqdm import tqdm\n",
    "from sklearn.preprocessing import MinMaxScaler\n",
    "from sklearn.preprocessing import StandardScaler\n",
    "\n"
   ]
  },
  {
   "cell_type": "code",
   "execution_count": null,
   "metadata": {},
   "outputs": [],
   "source": [
    "# Import line_profiler if installed\n",
    "try:\n",
    "    from line_profiler import LineProfiler\n",
    "    profile = LineProfiler()\n",
    "except ImportError:\n",
    "    def profile(f):\n",
    "        return f"
   ]
  },
  {
   "cell_type": "code",
   "execution_count": 48,
   "metadata": {},
   "outputs": [],
   "source": [
    "should_download_data = False\n",
    "reset_event_data = False"
   ]
  },
  {
   "cell_type": "markdown",
   "metadata": {},
   "source": [
    "# Get Games\n",
    "Fetch games and their id's for multiple months to collect data"
   ]
  },
  {
   "cell_type": "code",
   "execution_count": 49,
   "metadata": {},
   "outputs": [],
   "source": [
    "# Set common variables\n",
    "api_key = os.environ['SPORTRADAR_API_KEY']\n",
    "access_level = 'trial'\n",
    "version = 'v8'\n",
    "language_code = 'en'\n",
    "season_year = '2022'"
   ]
  },
  {
   "cell_type": "code",
   "execution_count": 50,
   "metadata": {},
   "outputs": [],
   "source": [
    "if should_download_data:\n",
    "    season_schedule = f\"https://api.sportradar.com/nba/{access_level}/{version}/{language_code}/games/{season_year}/REG/schedule.json?api_key={api_key}\"\n",
    "    response = requests.get(season_schedule)\n",
    "    if response.status_code == 200:\n",
    "        try:\n",
    "            schedule_data = response.json()\n",
    "        except ValueError as e:\n",
    "            print(\"Error decoding JSON:\", e)\n",
    "    else:\n",
    "        print(\"Failed to retrieve data: \", response.status_code)\n",
    "    schedule_data = response.json()\n",
    "    print(json.dumps(schedule_data, indent=4, sort_keys=True))"
   ]
  },
  {
   "cell_type": "code",
   "execution_count": 51,
   "metadata": {},
   "outputs": [],
   "source": [
    "if should_download_data: \n",
    "    with (open(\"data/season_schedule.json\", \"w\")) as f:\n",
    "        json.dump(schedule_data, f, indent=4)"
   ]
  },
  {
   "cell_type": "code",
   "execution_count": 53,
   "metadata": {},
   "outputs": [],
   "source": [
    "if should_download_data:\n",
    "\n",
    "    from concurrent.futures import ThreadPoolExecutor, as_completed\n",
    "    from tqdm import tqdm\n",
    "\n",
    "    def get_play_by_play(game_id):\n",
    "        url = f\"https://api.sportradar.com/nba/{access_level}/{version}/{language_code}/games/{game_id}/pbp.json?api_key={api_key}\"\n",
    "        response = requests.get(url)\n",
    "        if response.status_code == 200:\n",
    "            try:\n",
    "                return response.json()\n",
    "            except ValueError as e:\n",
    "                print(\"Error decoding JSON:\", e)\n",
    "        else:\n",
    "            print(\"Failed to retrieve data: \", response.status_code)\n",
    "        return None\n",
    "\n",
    "    game_ids = [game['id'] for game in schedule_data['games']]\n",
    "\n",
    "    play_by_play_data = []\n",
    "    with ThreadPoolExecutor(max_workers=5) as executor:\n",
    "        future_to_game_id = {executor.submit(get_play_by_play, game_id): game_id for game_id in game_ids}\n",
    "        for future in tqdm(as_completed(future_to_game_id), total=len(game_ids)):\n",
    "            data = future.result()\n",
    "            if data is not None:\n",
    "                play_by_play_data.append(data)\n",
    "\n",
    "    with open(\"data/play_by_play_data.json\", \"w\") as f:\n",
    "        json.dump(play_by_play_data, f, indent=4)"
   ]
  },
  {
   "cell_type": "markdown",
   "metadata": {},
   "source": [
    "# Preprocessing Function Declarations"
   ]
  },
  {
   "cell_type": "code",
   "execution_count": 282,
   "metadata": {},
   "outputs": [],
   "source": [
    "def process_game_level_data(df, target):\n",
    "    # List of columns to drop initially\n",
    "    columns_to_drop = [\"lead_changes\", \"times_tied\", \"track_on_court\", \"deleted_events\", 'coverage', 'scheduled', \"status\", \"attendance\", \"clock\", \"duration\", \"reference\", \"entry_mode\", \"sr_id\", \"clock_decimal\", \"time_zones\", \"quarter\"]\n",
    "    # List of team features to drop\n",
    "    team_features_to_drop = [\"name\", \"alias\", \"market\", \"sr_id\", \"bonus\", \"remaining_timeouts\", \"reference\", \"points\"]\n",
    "\n",
    "    # Process home and away data\n",
    "    for team in ['home', 'away']:\n",
    "        team_data = pd.json_normalize(df[team]).drop(team_features_to_drop, axis=1, inplace=False)\n",
    "        team_data.columns = [f'{team}_{col}' for col in team_data.columns]\n",
    "        df = df.join(team_data)\n",
    "\n",
    "    # Create features for home win percentage and away win percentage based on the team's record\n",
    "    for team in ['home', 'away']:\n",
    "        df[f'{team}_win_pct'] = df[f\"{team}_record.wins\"] / (df[f\"{team}_record.wins\"] + df[f\"{team}_record.losses\"])\n",
    "        columns_to_drop.extend([f\"{team}_record.wins\", f\"{team}_record.losses\"])\n",
    "\n",
    "    # Drop the home, away and record columns from the original dataframe\n",
    "    columns_to_drop.extend([\"home\", \"away\"])\n",
    "    df[\"target\"] = target\n",
    "\n",
    "    df.drop(columns_to_drop, axis=1, inplace=True)\n",
    "\n",
    "    return df"
   ]
  },
  {
   "cell_type": "code",
   "execution_count": 287,
   "metadata": {},
   "outputs": [],
   "source": [
    "import pandas as pd\n",
    "\n",
    "def extract_periods(df):\n",
    "    # Create an empty DataFrame to store the extracted data\n",
    "    extracted_data = pd.DataFrame()\n",
    "\n",
    "    features_to_keep = ['game_id','type', 'id', 'number', 'sequence', 'times_tied',\n",
    "       'lead_changes', \"events\", \"home_id\", \"away_id\" , \"home_win_pct\", \"away_win_pct\", \"target\"]\n",
    "\n",
    "    for i in range(len(df)):\n",
    "        # Iterate through each game entry\n",
    "        game_id = df['id'].iloc[i]\n",
    "        periods = df['periods'].iloc[i]\n",
    "        target = df['target'].iloc[i]\n",
    "        home_win_pct = df['home_win_pct'].iloc[i]\n",
    "        away_win_pct = df['away_win_pct'].iloc[i]\n",
    "\n",
    "        for period in periods:\n",
    "            # For each period, flatten the period data and the nested 'scoring' data\n",
    "            period_data = pd.json_normalize(period)\n",
    "            scoring_data = pd.json_normalize(period['scoring'])\n",
    "\n",
    "            # Combine period data with scoring data\n",
    "            combined_data = pd.concat([period_data, scoring_data], axis=1)\n",
    "\n",
    "            # Add game-level information (e.g., game ID)\n",
    "            combined_data['game_id'] = game_id\n",
    "            combined_data['target'] = target\n",
    "            combined_data['home_win_pct'] = home_win_pct\n",
    "            combined_data['away_win_pct'] = away_win_pct\n",
    "            combined_data[\"home_id\"] = df[\"home_id\"].iloc[i]\n",
    "            combined_data[\"away_id\"] = df[\"away_id\"].iloc[i]\n",
    "\n",
    "            # If times_tied doesn't exist, fill it with 0\n",
    "            if 'times_tied' not in combined_data.columns:\n",
    "                combined_data['times_tied'] = 0\n",
    "\n",
    "            # Append to the extracted_data DataFrame\n",
    "            extracted_data = pd.concat([extracted_data, combined_data], ignore_index=True)\n",
    "\n",
    "    # Keep only the columns we want\n",
    "    extracted_data = extracted_data[features_to_keep]\n",
    "\n",
    "    return extracted_data"
   ]
  },
  {
   "cell_type": "code",
   "execution_count": 293,
   "metadata": {},
   "outputs": [],
   "source": [
    "from enum import Enum\n",
    "import numpy as np\n",
    "from tqdm import tqdm\n",
    "from collections import deque\n",
    "\n",
    "class Team(Enum):\n",
    "    HOME = 1\n",
    "    AWAY = 0\n",
    "    TIED = -1\n",
    "\n",
    "\n",
    "def convert_to_timedelta(time_str):\n",
    "    if '.' in time_str:\n",
    "        # Format '00:ss.ms'\n",
    "        minutes = '00'\n",
    "        seconds, milliseconds = time_str.split('.')\n",
    "        seconds = seconds.zfill(2)  # Ensure two digits in seconds\n",
    "        time_formatted = f'{minutes}:{seconds}.{milliseconds}'\n",
    "    else:\n",
    "        # Format 'mm:ss'\n",
    "        minutes, seconds = time_str.split(':')\n",
    "        minutes = minutes.zfill(2)  # Ensure two digits in minutes\n",
    "        time_formatted = f'00:{minutes}:{seconds}'\n",
    "\n",
    "    return pd.to_timedelta(time_formatted)\n",
    "\n",
    "def calculate_game_time_remaining(quarter_number, clock_decimal):\n",
    "    try:\n",
    "        total_time_per_quarter = pd.to_timedelta('00:12:00')\n",
    "        game_time_remaining = np.where(quarter_number <= 4,\n",
    "                                       (4 - quarter_number) * total_time_per_quarter + clock_decimal,\n",
    "                                       clock_decimal)\n",
    "\n",
    "        # Convert game_time_remaining to seconds\n",
    "        game_time_remaining_seconds = game_time_remaining / np.timedelta64(1, 's')\n",
    "\n",
    "        return game_time_remaining_seconds\n",
    "    except OverflowError as e:\n",
    "        print(f\"Error processing sequence {quarter_number}, clock_decimal {clock_decimal}: {e}\")\n",
    "        return pd.NaT\n",
    "    \n",
    "def calculate_scoring_run(recent_scoring, max_window_size=25):\n",
    "    current_window_size = min(len(recent_scoring), max_window_size)\n",
    "    if current_window_size > 0:  # Ensure at least one event is in the window\n",
    "        recent_list = list(recent_scoring)  # Convert deque to list for slicing\n",
    "        return max(recent_list[-current_window_size:]) - min(recent_list[-current_window_size:])\n",
    "    return 0  # Default value if no events yet\n",
    "\n",
    "\n",
    "\n",
    "def encode_leading_team(row, home_id, away_id):\n",
    "    if pd.isna(row['current_leading_team_id']):\n",
    "        return Team.TIED.value  # Tie\n",
    "    elif row['current_leading_team_id'] == away_id:\n",
    "        return Team.AWAY.value  # Away team leads\n",
    "    elif row['current_leading_team_id'] == home_id:\n",
    "        return Team.HOME.value\n",
    "    else:\n",
    "        raise Exception(f\"Unexpected leading team ID: {row['current_leading_team_id']}, home ID: {home_id}, away ID: {away_id}\")"
   ]
  },
  {
   "cell_type": "code",
   "execution_count": 300,
   "metadata": {},
   "outputs": [],
   "source": [
    "import time\n",
    "\n",
    "@profile\n",
    "def extract_events(df): \n",
    "    start_time = time.time()\n",
    "    extracted_data_frame = pd.DataFrame()\n",
    "    print(df[\"home_win_pct\"].iloc[0])\n",
    "\n",
    "    CLOSE_GAME_THRESHOLD = 5\n",
    "    CRITICAL_TIME_THRESHOLD = 300\n",
    "    # RECENT_EVENTS_WINDOW = 25 # Number of events to keep in the recent scoring deque\n",
    "\n",
    "    last_known_leading_team = None\n",
    "    previous_score_difference = None\n",
    "    lead_change_count = 0\n",
    "    times_tied_count = 0\n",
    "    # recent_scoring = deque(maxlen=RECENT_EVENTS_WINDOW)\n",
    "\n",
    "    # Apply normalization and standardization\n",
    "    # Initialize scalers\n",
    "    minmax_scaler = MinMaxScaler()\n",
    "    standard_scaler = StandardScaler()\n",
    "\n",
    "    # Normalize and standardize\n",
    "    features_to_normalize = ['game_time_remaining']\n",
    "    features_to_standardize = ['home_points', 'away_points', 'current_score_difference', 'lead_changes', 'times_tied']\n",
    "\n",
    "    win_pct_dict = {}\n",
    "\n",
    "    all_events = []\n",
    "\n",
    "    home_id = df['home_id'].iloc[0]\n",
    "    away_id = df['away_id'].iloc[0]\n",
    "\n",
    "    # Add tqdm() around the range to create a progress bar\n",
    "    for i in tqdm(range(len(df))):\n",
    "\n",
    "        game_id = df['game_id'].iloc[i]\n",
    "        events = df['events'].iloc[i]\n",
    "        quarter_number = df['sequence'].iloc[i]\n",
    "        max_quarter_number = df[\"sequence\"].max()       \n",
    "        \n",
    "        events = [event for event in events if event['event_type'] not in ['lineupchange', 'timeout', 'endtimeout', \"teamtimeout\", \"flagrantone\", \"flagranttwo\", \"stoppage\", \"opentip\", \"delay\", \"jumpball\", \"review\", \"kickball\", \"jumpballviolation\", \"doublelane\", \"ejection\"]]\n",
    "\n",
    "        if game_id in win_pct_dict:\n",
    "            home_win_pct, away_win_pct, target = win_pct_dict[game_id]\n",
    "        else:\n",
    "            home_win_pct = df['home_win_pct'].iloc[i]\n",
    "            away_win_pct = df['away_win_pct'].iloc[i]\n",
    "            target = df['target'].iloc[i]\n",
    "            win_pct_dict[game_id] = (home_win_pct, away_win_pct, target)\n",
    "\n",
    "        normalize_total_diff = 0\n",
    "        for event in events:    \n",
    "            event_entry = pd.json_normalize(event)\n",
    "            event_entry['game_id'] = game_id\n",
    "            event_entry[\"quarter_number\"] = quarter_number\n",
    "            is_end_of_game = (event_entry['event_type'] == 'endperiod') & (quarter_number == max_quarter_number)            \n",
    "            event_entry['is_end_of_game'] = is_end_of_game\n",
    "            event_entry.drop(['event_type'], axis=1, inplace=True)\n",
    "            if 'possession.id' not in event_entry.columns:\n",
    "                event_entry['possession.id'] = None\n",
    "\n",
    "\n",
    "            # Time remaining in game feature\n",
    "            event_entry['clock_decimal'] = event_entry['clock_decimal'].apply(convert_to_timedelta)\n",
    "            event_entry['game_time_remaining'] = calculate_game_time_remaining(event_entry['quarter_number'], event_entry['clock_decimal'])\n",
    "            event_entry[\"current_score_difference\"] = event_entry[\"home_points\"] - event_entry[\"away_points\"];\n",
    "            event_entry[\"current_leading_team_id\"] = np.where(event_entry[\"current_score_difference\"] > 0, home_id, np.where(event_entry[\"current_score_difference\"] < 0, away_id, None))            \n",
    "            current_score_difference = event_entry[\"current_score_difference\"].iloc[0]\n",
    "\n",
    "            # Determine the current leading team\n",
    "            if current_score_difference > 0:\n",
    "                current_leading_team = Team.HOME.value\n",
    "            elif current_score_difference < 0:\n",
    "                current_leading_team = Team.AWAY.value\n",
    "            else:\n",
    "                current_leading_team = Team.TIED.value\n",
    "\n",
    "            # Update lead change count\n",
    "            if last_known_leading_team is not None and last_known_leading_team != Team.TIED and current_leading_team != Team.TIED and current_leading_team != last_known_leading_team:\n",
    "                lead_change_count += 1\n",
    "\n",
    "            if current_leading_team != Team.TIED:\n",
    "                last_known_leading_team = current_leading_team\n",
    "            # Add lead change count and times tied count to the DataFrame\n",
    "            event_entry['lead_changes'] = lead_change_count\n",
    "            \n",
    "            # Update times tied\n",
    "            if previous_score_difference is not None and previous_score_difference != 0 and current_score_difference == 0:\n",
    "                times_tied_count += 1\n",
    "            previous_score_difference = current_score_difference\n",
    "            event_entry['times_tied'] = times_tied_count\n",
    "\n",
    "            \n",
    "            # # Recent scoring\n",
    "            # recent_scoring.append(current_score_difference)\n",
    "            # event_entry['scoring_run'] = calculate_scoring_run(recent_scoring)\n",
    "                        \n",
    "            event_entry['is_close_game'] = event_entry['current_score_difference'].abs() <= CLOSE_GAME_THRESHOLD & (event_entry['game_time_remaining'] <= CRITICAL_TIME_THRESHOLD)\n",
    "            \n",
    "            try:\n",
    "                event_entry['critical_possession'] = event_entry['is_close_game'] & (event_entry['game_time_remaining'] <= CRITICAL_TIME_THRESHOLD) & (event_entry['possession.id'] == event_entry['current_leading_team_id'])\n",
    "            except KeyError: \n",
    "                event_entry['critical_possession'] = False\n",
    "\n",
    "            # Pre-computed values\n",
    "            event_entry['home_win_pct'] = home_win_pct\n",
    "            event_entry['away_win_pct'] = away_win_pct\n",
    "            event_entry[\"target\"] = target\n",
    "            \n",
    "            try:\n",
    "                event_entry['home_possession'] = (event_entry['possession.id'] == event_entry['on_court.home.id']).astype(int)\n",
    "                event_entry['away_possession'] = (event_entry['possession.id'] == event_entry['on_court.away.id']).astype(int)\n",
    "                event_entry['no_possession'] = event_entry['possession.id'].isna().astype(int)\n",
    "            except KeyError:\n",
    "                event_entry['home_possession'] = 0\n",
    "                event_entry['away_possession'] = 0\n",
    "                event_entry['no_possession'] = 1\n",
    "\n",
    "            event_entry['encoded_leading_team'] = event_entry.apply( lambda row: encode_leading_team(row, home_id, away_id), axis=1)\n",
    "\n",
    "            event_entry.drop(['clock_decimal'], axis=1, inplace=True)\n",
    "\n",
    "            all_events.append(event_entry)\n",
    "\n",
    "    \n",
    "    concat_start_time = time.time()\n",
    "    extracted_data_frame = pd.concat(all_events, ignore_index=True)\n",
    "    concat_end_time = time.time()\n",
    "    print(f\"Time taken for concatenation: {concat_end_time - concat_start_time} seconds\")\n",
    "\n",
    "    normalization_start_time = time.time()\n",
    "\n",
    "    extracted_data_frame[features_to_normalize] = minmax_scaler.fit_transform(extracted_data_frame[features_to_normalize])\n",
    "    # Apply standardization\n",
    "    extracted_data_frame[features_to_standardize] = standard_scaler.fit_transform(extracted_data_frame[features_to_standardize])\n",
    "    normalization_end_time = time.time()\n",
    "    normalize_total_diff += (normalization_end_time - normalization_start_time)\n",
    "    print(f\"Time taken for normalization: {normalization_end_time - normalization_start_time} seconds\")\n",
    "\n",
    "    features_to_keep = ['home_points', 'away_points', \"quarter_number\",\n",
    "         \"game_time_remaining\", \"current_score_difference\", \"is_close_game\", \"critical_possession\",\n",
    "         'lead_changes', 'times_tied', \"home_win_pct\", \"away_win_pct\", \"target\", \"home_possession\", \"away_possession\", \"no_possession\", \"encoded_leading_team\", \"is_end_of_game\" ]\n",
    "    # features_to_add_later = [\"on_court.home.players\", \"on_court.away.players\", \"statistics\", \"attempt\"]\n",
    "    extracted_data = extracted_data_frame[features_to_keep]\n",
    "    end_time = time.time()\n",
    "    print(f\"Total time taken: {end_time - start_time} seconds\")\n",
    "    print(f\"Percentage of time the concatenation took compared to the total time: {(concat_end_time - concat_start_time) / (end_time - start_time)}\")\n",
    "    print(f\"Percentage of time the normalize took compared to the total time: {normalize_total_diff / (end_time - start_time)}\")\n",
    "    return extracted_data\n",
    "\n"
   ]
  },
  {
   "cell_type": "markdown",
   "metadata": {},
   "source": [
    "# Data Preprocessing"
   ]
  },
  {
   "cell_type": "code",
   "execution_count": null,
   "metadata": {},
   "outputs": [],
   "source": [
    "def reprocess_data():\n",
    "    with open(\"data/season_schedule.json\", \"r\") as f:\n",
    "        schedule_data = json.load(f)\n",
    "\n",
    "    flat_data = schedule_data['games']\n",
    "\n",
    "    game_level_df = pd.DataFrame(flat_data)\n",
    "    target = game_level_df[\"home_points\"] > game_level_df[\"away_points\"]\n",
    "\n",
    "    with open('data/play_by_play_data.json') as f:\n",
    "        pbp_data = json.load(f)\n",
    "\n",
    "    df = pd.DataFrame(pbp_data)\n",
    "    df_processed = process_game_level_data(df, target)\n",
    "    period_data = extract_periods(df_processed)\n",
    "    event_data = extract_events(period_data)\n",
    "    event_data.to_csv(\"data/event_data.csv\", index=False)\n",
    "    return event_data\n",
    "\n",
    "modelling_event_data = None\n",
    "\n",
    "if reset_event_data:\n",
    "    modelling_event_data = reprocess_data()\n",
    "    if 'LineProfiler' in globals():\n",
    "        profile.print_stats()\n",
    "elif modelling_event_data is not None:\n",
    "    modelling_event_data = pd.read_csv(\"data/event_data.csv\")\n",
    "else:\n",
    "    pass"
   ]
  },
  {
   "cell_type": "markdown",
   "metadata": {},
   "source": [
    "## Split Data For Training"
   ]
  },
  {
   "cell_type": "code",
   "execution_count": null,
   "metadata": {},
   "outputs": [],
   "source": [
    "from sklearn.model_selection import train_test_split\n",
    "\n",
    "# Drop data that has NaN values\n",
    "modelling_event_data.dropna(inplace=True)\n",
    "\n",
    "X = modelling_event_data.drop(['target'], axis=1)  # Features\n",
    "y = modelling_event_data['target']               # Target variable\n",
    "\n",
    "\n",
    "X_train, X_test, y_train, y_test = train_test_split(X, y, test_size=0.2, random_state=42)"
   ]
  },
  {
   "cell_type": "markdown",
   "metadata": {},
   "source": [
    "# Modelling"
   ]
  },
  {
   "cell_type": "markdown",
   "metadata": {},
   "source": [
    "## Logistic Regression"
   ]
  },
  {
   "cell_type": "code",
   "execution_count": 65,
   "metadata": {},
   "outputs": [
    {
     "name": "stderr",
     "output_type": "stream",
     "text": [
      " This problem is unconstrained.\n"
     ]
    },
    {
     "name": "stdout",
     "output_type": "stream",
     "text": [
      "RUNNING THE L-BFGS-B CODE\n",
      "\n",
      "           * * *\n",
      "\n",
      "Machine precision = 2.220D-16\n",
      " N =           16     M =           10\n",
      "\n",
      "At X0         0 variables are exactly at the bounds\n",
      "\n",
      "At iterate    0    f=  2.70431D+05    |proj g|=  6.02281D+04\n",
      "\n",
      "At iterate   50    f=  2.39173D+05    |proj g|=  4.51381D+02\n",
      "\n",
      "At iterate  100    f=  2.39160D+05    |proj g|=  2.30899D+01\n",
      "\n",
      "           * * *\n",
      "\n",
      "Tit   = total number of iterations\n",
      "Tnf   = total number of function evaluations\n",
      "Tnint = total number of segments explored during Cauchy searches\n",
      "Skip  = number of BFGS updates skipped\n",
      "Nact  = number of active bounds at final generalized Cauchy point\n",
      "Projg = norm of the final projected gradient\n",
      "F     = final function value\n",
      "\n",
      "           * * *\n",
      "\n",
      "   N    Tit     Tnf  Tnint  Skip  Nact     Projg        F\n",
      "   16    100    111      1     0     0   2.309D+01   2.392D+05\n",
      "  F =   239160.43610471877     \n",
      "\n",
      "STOP: TOTAL NO. of ITERATIONS REACHED LIMIT                 \n"
     ]
    },
    {
     "name": "stderr",
     "output_type": "stream",
     "text": [
      "/opt/homebrew/lib/python3.11/site-packages/sklearn/linear_model/_logistic.py:460: ConvergenceWarning: lbfgs failed to converge (status=1):\n",
      "STOP: TOTAL NO. of ITERATIONS REACHED LIMIT.\n",
      "\n",
      "Increase the number of iterations (max_iter) or scale the data as shown in:\n",
      "    https://scikit-learn.org/stable/modules/preprocessing.html\n",
      "Please also refer to the documentation for alternative solver options:\n",
      "    https://scikit-learn.org/stable/modules/linear_model.html#logistic-regression\n",
      "  n_iter_i = _check_optimize_result(\n"
     ]
    },
    {
     "data": {
      "text/html": [
       "<style>#sk-container-id-2 {color: black;}#sk-container-id-2 pre{padding: 0;}#sk-container-id-2 div.sk-toggleable {background-color: white;}#sk-container-id-2 label.sk-toggleable__label {cursor: pointer;display: block;width: 100%;margin-bottom: 0;padding: 0.3em;box-sizing: border-box;text-align: center;}#sk-container-id-2 label.sk-toggleable__label-arrow:before {content: \"▸\";float: left;margin-right: 0.25em;color: #696969;}#sk-container-id-2 label.sk-toggleable__label-arrow:hover:before {color: black;}#sk-container-id-2 div.sk-estimator:hover label.sk-toggleable__label-arrow:before {color: black;}#sk-container-id-2 div.sk-toggleable__content {max-height: 0;max-width: 0;overflow: hidden;text-align: left;background-color: #f0f8ff;}#sk-container-id-2 div.sk-toggleable__content pre {margin: 0.2em;color: black;border-radius: 0.25em;background-color: #f0f8ff;}#sk-container-id-2 input.sk-toggleable__control:checked~div.sk-toggleable__content {max-height: 200px;max-width: 100%;overflow: auto;}#sk-container-id-2 input.sk-toggleable__control:checked~label.sk-toggleable__label-arrow:before {content: \"▾\";}#sk-container-id-2 div.sk-estimator input.sk-toggleable__control:checked~label.sk-toggleable__label {background-color: #d4ebff;}#sk-container-id-2 div.sk-label input.sk-toggleable__control:checked~label.sk-toggleable__label {background-color: #d4ebff;}#sk-container-id-2 input.sk-hidden--visually {border: 0;clip: rect(1px 1px 1px 1px);clip: rect(1px, 1px, 1px, 1px);height: 1px;margin: -1px;overflow: hidden;padding: 0;position: absolute;width: 1px;}#sk-container-id-2 div.sk-estimator {font-family: monospace;background-color: #f0f8ff;border: 1px dotted black;border-radius: 0.25em;box-sizing: border-box;margin-bottom: 0.5em;}#sk-container-id-2 div.sk-estimator:hover {background-color: #d4ebff;}#sk-container-id-2 div.sk-parallel-item::after {content: \"\";width: 100%;border-bottom: 1px solid gray;flex-grow: 1;}#sk-container-id-2 div.sk-label:hover label.sk-toggleable__label {background-color: #d4ebff;}#sk-container-id-2 div.sk-serial::before {content: \"\";position: absolute;border-left: 1px solid gray;box-sizing: border-box;top: 0;bottom: 0;left: 50%;z-index: 0;}#sk-container-id-2 div.sk-serial {display: flex;flex-direction: column;align-items: center;background-color: white;padding-right: 0.2em;padding-left: 0.2em;position: relative;}#sk-container-id-2 div.sk-item {position: relative;z-index: 1;}#sk-container-id-2 div.sk-parallel {display: flex;align-items: stretch;justify-content: center;background-color: white;position: relative;}#sk-container-id-2 div.sk-item::before, #sk-container-id-2 div.sk-parallel-item::before {content: \"\";position: absolute;border-left: 1px solid gray;box-sizing: border-box;top: 0;bottom: 0;left: 50%;z-index: -1;}#sk-container-id-2 div.sk-parallel-item {display: flex;flex-direction: column;z-index: 1;position: relative;background-color: white;}#sk-container-id-2 div.sk-parallel-item:first-child::after {align-self: flex-end;width: 50%;}#sk-container-id-2 div.sk-parallel-item:last-child::after {align-self: flex-start;width: 50%;}#sk-container-id-2 div.sk-parallel-item:only-child::after {width: 0;}#sk-container-id-2 div.sk-dashed-wrapped {border: 1px dashed gray;margin: 0 0.4em 0.5em 0.4em;box-sizing: border-box;padding-bottom: 0.4em;background-color: white;}#sk-container-id-2 div.sk-label label {font-family: monospace;font-weight: bold;display: inline-block;line-height: 1.2em;}#sk-container-id-2 div.sk-label-container {text-align: center;}#sk-container-id-2 div.sk-container {/* jupyter's `normalize.less` sets `[hidden] { display: none; }` but bootstrap.min.css set `[hidden] { display: none !important; }` so we also need the `!important` here to be able to override the default hidden behavior on the sphinx rendered scikit-learn.org. See: https://github.com/scikit-learn/scikit-learn/issues/21755 */display: inline-block !important;position: relative;}#sk-container-id-2 div.sk-text-repr-fallback {display: none;}</style><div id=\"sk-container-id-2\" class=\"sk-top-container\"><div class=\"sk-text-repr-fallback\"><pre>LogisticRegression(class_weight=&#x27;balanced&#x27;, verbose=1)</pre><b>In a Jupyter environment, please rerun this cell to show the HTML representation or trust the notebook. <br />On GitHub, the HTML representation is unable to render, please try loading this page with nbviewer.org.</b></div><div class=\"sk-container\" hidden><div class=\"sk-item\"><div class=\"sk-estimator sk-toggleable\"><input class=\"sk-toggleable__control sk-hidden--visually\" id=\"sk-estimator-id-2\" type=\"checkbox\" checked><label for=\"sk-estimator-id-2\" class=\"sk-toggleable__label sk-toggleable__label-arrow\">LogisticRegression</label><div class=\"sk-toggleable__content\"><pre>LogisticRegression(class_weight=&#x27;balanced&#x27;, verbose=1)</pre></div></div></div></div></div>"
      ],
      "text/plain": [
       "LogisticRegression(class_weight='balanced', verbose=1)"
      ]
     },
     "execution_count": 65,
     "metadata": {},
     "output_type": "execute_result"
    }
   ],
   "source": [
    "from sklearn.linear_model import LogisticRegression\n",
    "from sklearn.metrics import accuracy_score, classification_report\n",
    "\n",
    "# Implement logistic regression with class balancing \n",
    "logreg_model = LogisticRegression(class_weight='balanced')\n",
    "logreg_model.fit(X_train, y_train)\n",
    "\n",
    "\n",
    "y_pred = logreg_model.predict(X_test)\n",
    "print(f\"Accuracy: {accuracy_score(y_test, y_pred)}\")\n",
    "print(classification_report(y_test, y_pred))\n"
   ]
  },
  {
   "cell_type": "markdown",
   "metadata": {},
   "source": [
    "### Cross Validation"
   ]
  },
  {
   "cell_type": "code",
   "execution_count": 67,
   "metadata": {},
   "outputs": [],
   "source": [
    "from sklearn.model_selection import cross_val_score\n",
    "\n",
    "scores = cross_val_score(logreg_model, X, y, cv=5)\n",
    "print(\"Cross-validated scores:\", scores)\n"
   ]
  },
  {
   "cell_type": "markdown",
   "metadata": {},
   "source": [
    "### Feature Importance Analysis"
   ]
  },
  {
   "cell_type": "code",
   "execution_count": 68,
   "metadata": {},
   "outputs": [
    {
     "data": {
      "image/png": "[encoded data removed]",
      "text/plain": [
       "<Figure size 1000x800 with 1 Axes>"
      ]
     },
     "metadata": {},
     "output_type": "display_data"
    }
   ],
   "source": [
    "# Feature importance analysis\n",
    "import matplotlib.pyplot as plt\n",
    "import seaborn as sns\n",
    "sns.set()\n",
    "\n",
    "# Get feature importance from the model\n",
    "feature_importance = pd.DataFrame(list(zip(X.columns, logreg_model.coef_[0])), columns=['feature', 'importance'])\n",
    "feature_importance.sort_values(by='importance', ascending=False, inplace=True)\n",
    "\n",
    "# Plot the feature importance\n",
    "plt.figure(figsize=(10, 8))\n",
    "sns.barplot(x='importance', y='feature', data=feature_importance)\n",
    "plt.title('Feature Importance')\n",
    "plt.tight_layout()\n",
    "plt.show()"
   ]
  },
  {
   "cell_type": "markdown",
   "metadata": {},
   "source": [
    "### Hyperparameter tuning"
   ]
  },
  {
   "cell_type": "code",
   "execution_count": 69,
   "metadata": {},
   "outputs": [],
   "source": [
    "# # Implement GridSearchCV for hyperparameter tuning\n",
    "\n",
    "# from sklearn.model_selection import GridSearchCV\n",
    "\n",
    "# # Create regularization penalty space\n",
    "# penalty = ['l1', 'l2']\n",
    "\n",
    "# # Create regularization hyperparameter space\n",
    "# C = np.logspace(0, 4, 10)\n",
    "\n",
    "# # Create hyperparameter options\n",
    "# hyperparameters = dict(C=C, penalty=penalty)\n",
    "\n",
    "# # Create grid search using 5-fold cross validation\n",
    "# clf = GridSearchCV(logreg_model, hyperparameters, cv=5)\n",
    "\n",
    "# # Fit grid search\n",
    "# best_model = clf.fit(X_train, y_train)\n",
    "\n",
    "# # View best hyperparameters\n",
    "# print('Best Penalty:', best_model.best_estimator_.get_params()['penalty'])\n",
    "# print('Best C:', best_model.best_estimator_.get_params()['C'])\n"
   ]
  },
  {
   "cell_type": "markdown",
   "metadata": {},
   "source": [
    "### Single Game Win Probability Calculation"
   ]
  },
  {
   "cell_type": "code",
   "execution_count": 303,
   "metadata": {},
   "outputs": [],
   "source": [
    "import json\n",
    "import pandas as pd\n",
    "import numpy as np\n",
    "import matplotlib.pyplot as plt\n",
    "import seaborn as sns\n",
    "sns.set()\n",
    "\n",
    "class GamePredictor:\n",
    "    def __init__(self, data_path):\n",
    "        self.data_path = data_path\n",
    "        self.FIVE_MINUTES_NORMALIZED = 300 / 2880\n",
    "\n",
    "    def predict_probabilities(self, df):\n",
    "        _df_processed = process_game_level_data(df)    \n",
    "        _period_data = extract_periods(_df_processed)\n",
    "        _event_data = extract_events(_period_data)\n",
    "        _event_data.dropna(inplace=True)\n",
    "        return _event_data\n",
    "\n",
    "    # Function to calculate time remaining including overtime\n",
    "    @staticmethod\n",
    "    def calc_time_remaining(row):\n",
    "        if row['quarter_number'] <= 4:\n",
    "            return row['game_time_remaining']\n",
    "        elif row['quarter_number'] > 4:\n",
    "            # Adjust for overtime: add the duration of each overtime period that has passed\n",
    "            overtime_periods = row['quarter_number'] - 4\n",
    "            return row['game_time_remaining'] - (GamePredictor.FIVE_MINUTES_NORMALIZED * overtime_periods)\n",
    "        else:\n",
    "            pass\n",
    "\n",
    "\n",
    "    def extract_prob_data(self, path_to_single_game_data, model):\n",
    "        # Open the file\n",
    "        with open(path_to_single_game_data, \"r\") as f:\n",
    "            single_game_data = json.load(f)\n",
    "\n",
    "        single_game_df = pd.DataFrame(single_game_data)\n",
    "\n",
    "        # Get the probabilities for each event\n",
    "        single_game_event_data = self.predict_probabilities(single_game_df)\n",
    "\n",
    "        # Apply this function to each row\n",
    "        single_game_event_data['adjusted_time_remaining'] = single_game_event_data.apply(self.calc_time_remaining, axis=1)\n",
    "\n",
    "        X = single_game_event_data.drop(['target', \"adjusted_time_remaining\", \"is_game_over\"], axis=1)  \n",
    "        y = single_game_event_data['target'] \n",
    "        win_probabilities = model.predict_proba(X)\n",
    "\n",
    "        win_probabilities = win_probabilities[:, 0]  # Adjust based on your class of interest\n",
    "        return single_game_event_data, win_probabilities\n",
    "\n",
    "    def plot_probabilities(self, single_game_event_data, win_probabilities): \n",
    "        plt.figure(figsize=(20, 8))\n",
    "        # y axis is between 0 and 1, and shows it in increments of 0.1\n",
    "        plt.yticks(np.arange(0, 1.1, 0.1))\n",
    "        plt.ylim(0, 1)\n",
    "\n",
    "        max_quarter_number = single_game_event_data['quarter_number'].max() - 4\n",
    "\n",
    "        plt.plot(single_game_event_data['adjusted_time_remaining'] * 2880, win_probabilities, color='blue', linewidth=4)\n",
    "\n",
    "        plt.title('Win Probability For Away Team Uncalibrated')\n",
    "        plt.xlabel('Time Remaining (s)')\n",
    "        plt.ylabel('Win Probability')\n",
    "        plt.gca().invert_xaxis()  # Reverse the x-axis\n",
    "        plt.xlim(2900, GamePredictor.FIVE_MINUTES_NORMALIZED * max_quarter_number * 2880 * -1)\n",
    "        plt.tight_layout()\n",
    "        plt.show()\n"
   ]
  },
  {
   "cell_type": "code",
   "execution_count": 304,
   "metadata": {},
   "outputs": [
    {
     "ename": "NameError",
     "evalue": "name 'logreg_model' is not defined",
     "output_type": "error",
     "traceback": [
      "\u001b[0;31m---------------------------------------------------------------------------\u001b[0m",
      "\u001b[0;31mNameError\u001b[0m                                 Traceback (most recent call last)",
      "\u001b[1;32m/Users/sebastiansole/Documents/Programming_Projects/nba-win-probability-model/notebook.ipynb Cell 29\u001b[0m line \u001b[0;36m2\n\u001b[1;32m      <a href='vscode-notebook-cell:/Users/sebastiansole/Documents/Programming_Projects/nba-win-probability-model/notebook.ipynb#X54sZmlsZQ%3D%3D?line=0'>1</a>\u001b[0m game_predictor \u001b[39m=\u001b[39m GamePredictor(\u001b[39m\"\u001b[39m\u001b[39mdata/event_data.csv\u001b[39m\u001b[39m\"\u001b[39m)\n\u001b[0;32m----> <a href='vscode-notebook-cell:/Users/sebastiansole/Documents/Programming_Projects/nba-win-probability-model/notebook.ipynb#X54sZmlsZQ%3D%3D?line=1'>2</a>\u001b[0m single_game_event_data, win_probabilities \u001b[39m=\u001b[39m game_predictor\u001b[39m.\u001b[39mextract_prob_data(\u001b[39m\"\u001b[39m\u001b[39mdata/clehou181223.json\u001b[39m\u001b[39m\"\u001b[39m ,logreg_model)\n\u001b[1;32m      <a href='vscode-notebook-cell:/Users/sebastiansole/Documents/Programming_Projects/nba-win-probability-model/notebook.ipynb#X54sZmlsZQ%3D%3D?line=2'>3</a>\u001b[0m game_predictor\u001b[39m.\u001b[39mplot_probabilities(single_game_event_data, win_probabilities)\n",
      "\u001b[0;31mNameError\u001b[0m: name 'logreg_model' is not defined"
     ]
    }
   ],
   "source": [
    "game_predictor = GamePredictor(\"data/event_data.csv\")\n",
    "single_game_event_data, win_probabilities = game_predictor.extract_prob_data(\"data/clehou181223.json\" ,logreg_model)\n",
    "game_predictor.plot_probabilities(single_game_event_data, win_probabilities)"
   ]
  },
  {
   "cell_type": "markdown",
   "metadata": {},
   "source": [
    "### Calibrated model"
   ]
  },
  {
   "cell_type": "code",
   "execution_count": 267,
   "metadata": {},
   "outputs": [
    {
     "name": "stderr",
     "output_type": "stream",
     "text": [
      "/opt/homebrew/lib/python3.11/site-packages/sklearn/linear_model/_logistic.py:460: ConvergenceWarning: lbfgs failed to converge (status=1):\n",
      "STOP: TOTAL NO. of ITERATIONS REACHED LIMIT.\n",
      "\n",
      "Increase the number of iterations (max_iter) or scale the data as shown in:\n",
      "    https://scikit-learn.org/stable/modules/preprocessing.html\n",
      "Please also refer to the documentation for alternative solver options:\n",
      "    https://scikit-learn.org/stable/modules/linear_model.html#logistic-regression\n",
      "  n_iter_i = _check_optimize_result(\n",
      "/opt/homebrew/lib/python3.11/site-packages/sklearn/linear_model/_logistic.py:460: ConvergenceWarning: lbfgs failed to converge (status=1):\n",
      "STOP: TOTAL NO. of ITERATIONS REACHED LIMIT.\n",
      "\n",
      "Increase the number of iterations (max_iter) or scale the data as shown in:\n",
      "    https://scikit-learn.org/stable/modules/preprocessing.html\n",
      "Please also refer to the documentation for alternative solver options:\n",
      "    https://scikit-learn.org/stable/modules/linear_model.html#logistic-regression\n",
      "  n_iter_i = _check_optimize_result(\n",
      "/opt/homebrew/lib/python3.11/site-packages/sklearn/linear_model/_logistic.py:460: ConvergenceWarning: lbfgs failed to converge (status=1):\n",
      "STOP: TOTAL NO. of ITERATIONS REACHED LIMIT.\n",
      "\n",
      "Increase the number of iterations (max_iter) or scale the data as shown in:\n",
      "    https://scikit-learn.org/stable/modules/preprocessing.html\n",
      "Please also refer to the documentation for alternative solver options:\n",
      "    https://scikit-learn.org/stable/modules/linear_model.html#logistic-regression\n",
      "  n_iter_i = _check_optimize_result(\n",
      "/opt/homebrew/lib/python3.11/site-packages/sklearn/linear_model/_logistic.py:460: ConvergenceWarning: lbfgs failed to converge (status=1):\n",
      "STOP: TOTAL NO. of ITERATIONS REACHED LIMIT.\n",
      "\n",
      "Increase the number of iterations (max_iter) or scale the data as shown in:\n",
      "    https://scikit-learn.org/stable/modules/preprocessing.html\n",
      "Please also refer to the documentation for alternative solver options:\n",
      "    https://scikit-learn.org/stable/modules/linear_model.html#logistic-regression\n",
      "  n_iter_i = _check_optimize_result(\n",
      "/opt/homebrew/lib/python3.11/site-packages/sklearn/linear_model/_logistic.py:460: ConvergenceWarning: lbfgs failed to converge (status=1):\n",
      "STOP: TOTAL NO. of ITERATIONS REACHED LIMIT.\n",
      "\n",
      "Increase the number of iterations (max_iter) or scale the data as shown in:\n",
      "    https://scikit-learn.org/stable/modules/preprocessing.html\n",
      "Please also refer to the documentation for alternative solver options:\n",
      "    https://scikit-learn.org/stable/modules/linear_model.html#logistic-regression\n",
      "  n_iter_i = _check_optimize_result(\n",
      "/opt/homebrew/lib/python3.11/site-packages/sklearn/linear_model/_logistic.py:460: ConvergenceWarning: lbfgs failed to converge (status=1):\n",
      "STOP: TOTAL NO. of ITERATIONS REACHED LIMIT.\n",
      "\n",
      "Increase the number of iterations (max_iter) or scale the data as shown in:\n",
      "    https://scikit-learn.org/stable/modules/preprocessing.html\n",
      "Please also refer to the documentation for alternative solver options:\n",
      "    https://scikit-learn.org/stable/modules/linear_model.html#logistic-regression\n",
      "  n_iter_i = _check_optimize_result(\n"
     ]
    }
   ],
   "source": [
    "from sklearn.calibration import CalibratedClassifierCV\n",
    "from sklearn.linear_model import LogisticRegression\n",
    "\n",
    "# Train the logistic regression model\n",
    "lr = LogisticRegression()\n",
    "lr.fit(X_train, y_train)\n",
    "\n",
    "# Calibrate the model\n",
    "calibrated = CalibratedClassifierCV(lr, method='sigmoid', cv=5)\n",
    "calibrated.fit(X_train, y_train)\n",
    "\n",
    "game_predictor = GamePredictor(\"data/event_data.csv\")\n",
    "single_game_event_data, win_probabilities = game_predictor.extract_prob_data(\"data/clehou181223.json\", calibrated)\n",
    "game_predictor.plot_probabilities(single_game_event_data, win_probabilities)"
   ]
  },
  {
   "cell_type": "markdown",
   "metadata": {},
   "source": [
    "## AdaBoost"
   ]
  },
  {
   "cell_type": "code",
   "execution_count": null,
   "metadata": {},
   "outputs": [
    {
     "name": "stdout",
     "output_type": "stream",
     "text": [
      "Accuracy: 0.7096003608849885\n",
      "              precision    recall  f1-score   support\n",
      "\n",
      "       False       0.69      0.56      0.62     40824\n",
      "        True       0.72      0.82      0.77     56714\n",
      "\n",
      "    accuracy                           0.71     97538\n",
      "   macro avg       0.70      0.69      0.69     97538\n",
      "weighted avg       0.71      0.71      0.70     97538\n",
      "\n",
      "Cross-validated scores: [0.58461318 0.61333019 0.58838606 0.59993643 0.41866164]\n"
     ]
    }
   ],
   "source": [
    "# Implement AdaBoost\n",
    "\n",
    "from sklearn.ensemble import AdaBoostClassifier\n",
    "\n",
    "adaboost_model = AdaBoostClassifier(n_estimators=500, random_state=42, learning_rate=0.1)\n",
    "adaboost_model.fit(X_train, y_train)\n",
    "\n",
    "y_pred = adaboost_model.predict(X_test)\n",
    "print(f\"Accuracy: {accuracy_score(y_test, y_pred)}\")\n",
    "print(classification_report(y_test, y_pred))\n"
   ]
  },
  {
   "cell_type": "markdown",
   "metadata": {},
   "source": [
    "### Cross validation"
   ]
  },
  {
   "cell_type": "code",
   "execution_count": null,
   "metadata": {},
   "outputs": [],
   "source": [
    "# scores = cross_val_score(model, X, y, cv=5)\n",
    "# print(\"Cross-validated scores:\", scores)"
   ]
  },
  {
   "cell_type": "markdown",
   "metadata": {},
   "source": [
    "### Single Game Win Probability Calculation"
   ]
  },
  {
   "cell_type": "code",
   "execution_count": null,
   "metadata": {},
   "outputs": [],
   "source": [
    "game_predictor = GamePredictor(\"data/event_data.csv\")\n",
    "single_game_event_data, win_probabilities = game_predictor.extract_prob_data(\"data/clehou181223.json\", adaboost_model)\n",
    "game_predictor.plot_probabilities(single_game_event_data, win_probabilities)"
   ]
  },
  {
   "cell_type": "markdown",
   "metadata": {},
   "source": [
    "## XGBoost"
   ]
  },
  {
   "cell_type": "code",
   "execution_count": null,
   "metadata": {},
   "outputs": [],
   "source": [
    "# Implement XGBoost\n",
    "\n",
    "from xgboost import XGBClassifier\n",
    "\n",
    "xgb_model = XGBClassifier(n_estimators=500, random_state=42, learning_rate=0.1)\n",
    "xgb_model.fit(X_train, y_train)\n",
    "\n",
    "y_pred = xgb_model.predict(X_test)\n",
    "print(f\"Accuracy: {accuracy_score(y_test, y_pred)}\")\n",
    "print(classification_report(y_test, y_pred))"
   ]
  },
  {
   "cell_type": "markdown",
   "metadata": {},
   "source": [
    "### Single Game Win Probability Calculation"
   ]
  },
  {
   "cell_type": "code",
   "execution_count": null,
   "metadata": {},
   "outputs": [],
   "source": [
    "game_predictor = GamePredictor(\"data/event_data.csv\")\n",
    "single_game_event_data, win_probabilities = game_predictor.extract_prob_data(\"data/clehou181223.json\", xgb_model)\n",
    "game_predictor.plot_probabilities(single_game_event_data, win_probabilities)"
   ]
  }
 ],
 "metadata": {
  "kernelspec": {
   "display_name": "Python 3",
   "language": "python",
   "name": "python3"
  },
  "language_info": {
   "codemirror_mode": {
    "name": "ipython",
    "version": 3
   },
   "file_extension": ".py",
   "mimetype": "text/x-python",
   "name": "python",
   "nbconvert_exporter": "python",
   "pygments_lexer": "ipython3",
   "version": "3.11.5"
  }
 },
 "nbformat": 4,
 "nbformat_minor": 2
}
